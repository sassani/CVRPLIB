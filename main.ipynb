{
 "cells": [
  {
   "cell_type": "code",
   "execution_count": 15,
   "metadata": {},
   "outputs": [
    {
     "name": "stdout",
     "output_type": "stream",
     "text": [
      "The autoreload extension is already loaded. To reload it, use:\n",
      "  %reload_ext autoreload\n"
     ]
    }
   ],
   "source": [
    "# from data import _read_cvrp, _read_distance, create_random_cvrp\n",
    "from map import Map\n",
    "from cluster import Cluster\n",
    "import pandas as pd\n",
    "import numpy as np\n",
    "import solver as sl\n",
    "\n",
    "%load_ext autoreload\n",
    "%autoreload 2\n",
    "\n",
    "\n",
    "# data, meta_data = _read_cvrp('sample_data/X-n5.vrp')\n",
    "# print(meta_data)\n",
    "# data"
   ]
  },
  {
   "cell_type": "code",
   "execution_count": 24,
   "metadata": {},
   "outputs": [],
   "source": [
    "map = Map()\n",
    "# map.import_nodes_from_file('sample_data/X-n5.vrp', 'cvrp')\n",
    "# map.import_nodes_from_file('sample_data/X-n101-k25.vrp', 'cvrp')\n",
    "# map.import_nodes_from_file('sample_data/X-n1001-k43.vrp', 'cvrp')\n",
    "map.create_random_nodes(n=100, seed=10)\n",
    "map.create_net_by_voronoi()\n",
    "# map.draw(show_demands=False, size=(5,5))"
   ]
  },
  {
   "cell_type": "code",
   "execution_count": 25,
   "metadata": {},
   "outputs": [],
   "source": [
    "# map.draw(show_demands=True, size=(5,5))"
   ]
  },
  {
   "cell_type": "code",
   "execution_count": 26,
   "metadata": {},
   "outputs": [],
   "source": [
    "# n1, n2 = map.farthest_nodes(map.distances)\n",
    "# print(f\"n1: {n1.id}, n2: {n2.id}\")\n",
    "# print(f\"n1 demand: {n1.demand}, n2 demand: {n2.demand}\")"
   ]
  },
  {
   "cell_type": "code",
   "execution_count": 27,
   "metadata": {},
   "outputs": [
    {
     "data": {
      "text/plain": [
       "[<cluster.Cluster at 0x2576643a0d0>, <cluster.Cluster at 0x2576626f450>]"
      ]
     },
     "execution_count": 27,
     "metadata": {},
     "output_type": "execute_result"
    }
   ],
   "source": [
    "cl:list[Cluster] = sl.run(map)\n",
    "cl"
   ]
  },
  {
   "cell_type": "code",
   "execution_count": 28,
   "metadata": {},
   "outputs": [
    {
     "name": "stdout",
     "output_type": "stream",
     "text": [
      "Cluster: 1\n",
      "        Nodes:[43, 51, 95, 18, 44, 76, 38, 84, 41, 89, 72, 96, 86, 87, 22, 6, 49, 30, 25, 5, 66, 29, 47, 31, 69, 23, 52, 16, 65, 64, 92, 80, 3, 36, 88, 75, 67, 33, 82, 99, 56, 85, 58, 71, 28, 48, 35, 57, 54, 12]\n",
      "        Neighbors: [16, 48, 25, 38, 88, 85, 23, 43, 51, 86, 48, 75, 3, 22, 57, 85, 43, 38, 43, 85, 25, 38, 88, 57, 43, 67, 38, 57, 85, 89, 84, 12, 84, 87, 54, 67, 12, 80, 75, 86, 38, 89, 67, 80, 16, 75, 51, 66, 12, 80, 82, 51, 86, 92, 80, 82, 66, 58, 31, 96, 49, 80, 95, 31, 96, 92, 64, 28, 82, 72, 52, 97, 31, 92, 91, 64, 70, 49, 31, 91, 5, 23, 97, 58, 72, 79, 58, 95, 92, 91, 49, 28, 81, 79, 23, 95, 70, 96, 49, 29, 17, 65, 88, 22, 99, 84, 87, 69, 18, 44, 3, 18, 44, 30, 71, 18, 3, 94, 34, 17, 47, 65, 64, 96, 29, 47, 87, 54, 64, 99, 71, 6, 56, 18, 56, 36, 87, 69, 3, 18, 30, 71, 33, 46, 56, 15, 30, 46, 6, 18, 44, 36, 41, 30, 76, 99, 33, 6, 46, 56, 9, 35, 36, 47, 56, 35, 41, 44, 87, 36, 87, 41, 47, 28, 82, 23, 58, 54, 65, 80, 64, 49, 92, 88, 22, 84, 67, 85, 16, 48, 12, 86, 38, 40, 63, 71, 32, 33, 45, 65, 89, 84, 54, 35, 36, 47, 3, 44, 96, 65, 89, 87, 80, 51, 23, 66, 72, 92, 58, 86, 66, 96, 92, 89, 54, 12, 48, 75, 25, 43, 12, 85, 67, 30, 99, 56, 69, 3, 44, 88, 84, 57, 3, 83, 29, 94, 65, 9, 35, 87, 41, 16, 43, 75, 38, 16, 28, 82, 51, 72, 5, 71, 76, 45, 2, 21, 6, 15, 22, 57, 89, 3, 87, 67, 16, 82, 23, 86, 66, 50, 98, 74, 91, 58, 97]\n",
      "        Total Demand: 2259\n",
      "Cluster: 0\n",
      "        Nodes:[60, 9, 19, 42, 83, 45, 32, 21, 81, 11, 77, 79, 55, 13, 46, 10, 26, 34, 17, 70, 2, 97, 100, 14, 68, 8, 53, 94, 39, 61, 93, 20, 15, 62, 91, 37, 59, 50, 40, 24, 98, 74, 63, 90, 1, 7, 4, 78, 73, 27]\n",
      "        Neighbors: [76, 27, 63, 68, 77, 40, 68, 37, 53, 10, 14, 60, 40, 63, 93, 90, 68, 90, 77, 19, 68, 27, 78, 61, 53, 68, 73, 26, 100, 61, 37, 1, 26, 27, 60, 37, 42, 100, 26, 7, 100, 37, 60, 62, 74, 53, 20, 8, 100, 24, 60, 74, 42, 4, 50, 11, 20, 8, 73, 26, 100, 11, 74, 20, 42, 7, 91, 24, 62, 81, 10, 79, 97, 50, 62, 4, 10, 14, 60, 28, 81, 4, 5, 97, 28, 4, 79, 52, 50, 98, 58, 10, 4, 79, 5, 40, 27, 61, 93, 77, 19, 37, 78, 1, 11, 73, 7, 37, 27, 24, 14, 53, 42, 62, 39, 1, 70, 34, 8, 7, 26, 91, 39, 11, 70, 29, 94, 17, 39, 55, 83, 29, 34, 47, 70, 29, 34, 64, 55, 59, 94, 47, 9, 21, 11, 34, 94, 55, 1, 27, 24, 10, 60, 55, 13, 32, 83, 45, 21, 32, 76, 59, 33, 21, 83, 2, 21, 46, 47, 15, 41, 41, 56, 9, 6, 15, 40, 76, 77, 1, 13, 61, 32, 90, 39, 1, 13, 94, 83, 59, 63, 78, 1, 68, 37, 90, 19, 2, 33, 46, 9, 6, 52, 50, 97, 62, 52, 50, 42, 8, 91, 63, 13, 76, 59, 45, 27, 24, 14, 81, 4, 59, 83, 45, 2, 9, 33, 62, 4, 52, 97, 98, 74, 63, 61, 93, 77, 19, 63, 1, 55, 32, 59, 11, 95, 34, 91, 17, 64, 11, 52, 74, 58, 8, 95, 70, 31, 53, 20, 42, 73, 7, 37, 21, 9, 15, 33, 39, 63, 78, 55, 13, 61, 11, 26, 8, 7, 100, 42, 61, 93, 90, 68]\n",
      "        Total Demand: 2410\n"
     ]
    }
   ],
   "source": [
    "print(cl[0])\n",
    "print(cl[1])"
   ]
  }
 ],
 "metadata": {
  "kernelspec": {
   "display_name": "rss311",
   "language": "python",
   "name": "python3"
  },
  "language_info": {
   "codemirror_mode": {
    "name": "ipython",
    "version": 3
   },
   "file_extension": ".py",
   "mimetype": "text/x-python",
   "name": "python",
   "nbconvert_exporter": "python",
   "pygments_lexer": "ipython3",
   "version": "3.11.2"
  },
  "orig_nbformat": 4,
  "vscode": {
   "interpreter": {
    "hash": "e9a7b54c4588509b5ff311970a14da5f940a4cc12e171f52f4af663135d40aaa"
   }
  }
 },
 "nbformat": 4,
 "nbformat_minor": 2
}
