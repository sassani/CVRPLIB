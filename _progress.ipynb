{
 "cells": [
  {
   "cell_type": "code",
   "execution_count": 1,
   "metadata": {},
   "outputs": [],
   "source": [
    "import pandas as pd\n",
    "import numpy as np\n",
    "import solver as sl\n",
    "import matplotlib.pyplot as plt\n",
    "import itertools as itter\n",
    "import heapq\n",
    "import networkx as nx\n",
    "\n",
    "from map import Map\n",
    "from cluster import Cluster\n",
    "from distance import *\n",
    "\n",
    "%load_ext autoreload\n",
    "%autoreload 2"
   ]
  },
  {
   "cell_type": "code",
   "execution_count": 78,
   "metadata": {},
   "outputs": [],
   "source": [
    "map = Map(seed=10)\n",
    "map.create_random_nodes(n=1000)\n",
    "map.create_net_by_voronoi()\n",
    "\n",
    "# fig, ax = plt.subplots(1, 2, figsize=(10,5))\n",
    "# map.plot(node_label='index',ax=ax[0])\n",
    "# map.plot(node_label='demand',ax=ax[1])\n",
    "# _ = ax[0].set_title('IDs')\n",
    "# _ = ax[1].set_title('Demands')"
   ]
  },
  {
   "cell_type": "code",
   "execution_count": 81,
   "metadata": {},
   "outputs": [
    {
     "name": "stdout",
     "output_type": "stream",
     "text": [
      "(<cluster.Cluster object at 0x000002306CABF890>, <cluster.Cluster object at 0x000002306DA8F850>)\n",
      "id: 0, td: 50554, mean: 50.80804020100503, nodes: 995\n",
      "id: 444, td: 106, mean: 53.0, nodes: 2\n",
      "id: 498, td: 110, mean: 36.666666666666664, nodes: 3\n"
     ]
    }
   ],
   "source": [
    "connectivity = nx.to_pandas_adjacency(map.network)\n",
    "connectivity = np.array(connectivity)\n",
    "\n",
    "net = nx.Graph()\n",
    "for n in map.network.nodes():\n",
    "    net.add_node(Cluster(n))\n",
    "\n",
    "ordered = []\n",
    "for c in itter.combinations(net.nodes(), r=2):\n",
    "    n1, n2 = c[0], c[1]\n",
    "    if (connectivity[n1.index, n2.index]):\n",
    "        # diff = np.abs(n1.total_demand - n2.total_demand)\n",
    "        net.add_edge(n1, n2)\n",
    "\n",
    "\n",
    "def find_max_diff(net: nx.Graph):\n",
    "    max_diff = 0\n",
    "    max_edge = []\n",
    "    for ed in net.edges():\n",
    "        c1, c2 = ed[0], ed[1]\n",
    "        diff = np.abs(c1.total_demand - c2.total_demand)\n",
    "        if diff > max_diff:\n",
    "            max_diff = diff\n",
    "            max_edge = ed\n",
    "    return max_edge\n",
    "\n",
    "\n",
    "print(find_max_diff(net))\n",
    "\n",
    "# print(len(net))\n",
    "# for c in net.nodes():\n",
    "#     print(f\"id: {c.index}, td: {c.total_demand}, nodes: {c.nodes}\")\n",
    "\n",
    "while net.order()>3:\n",
    "    max_edge = find_max_diff(net)\n",
    "    c1, c2 = max_edge[0], max_edge[1]\n",
    "    c1.merge(c2)\n",
    "    net = nx.contracted_nodes(net, c1, c2, self_loops=False)\n",
    "# print(\"\\n\", len(net.edges()))\n",
    "# for c in net.nodes():\n",
    "#     print(f\"id: {c.index}, mean: {c.mean_demand}, nodes: {c.nodes}\")\n",
    "\n",
    "for c in net.nodes():\n",
    "    print(f\"id: {c.index}, td: {c.total_demand}, mean: {c.mean_demand}, nodes: {len(c.nodes)}\")"
   ]
  },
  {
   "cell_type": "code",
   "execution_count": null,
   "metadata": {},
   "outputs": [],
   "source": []
  }
 ],
 "metadata": {
  "kernelspec": {
   "display_name": "rss311",
   "language": "python",
   "name": "python3"
  },
  "language_info": {
   "codemirror_mode": {
    "name": "ipython",
    "version": 3
   },
   "file_extension": ".py",
   "mimetype": "text/x-python",
   "name": "python",
   "nbconvert_exporter": "python",
   "pygments_lexer": "ipython3",
   "version": "3.11.2"
  },
  "orig_nbformat": 4
 },
 "nbformat": 4,
 "nbformat_minor": 2
}
